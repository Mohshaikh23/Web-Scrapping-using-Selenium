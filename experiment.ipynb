{
 "cells": [
  {
   "cell_type": "code",
   "execution_count": 2,
   "metadata": {},
   "outputs": [],
   "source": [
    "import pandas as pd\n",
    "import numpy as np"
   ]
  },
  {
   "cell_type": "code",
   "execution_count": 3,
   "metadata": {},
   "outputs": [
    {
     "name": "stdout",
     "output_type": "stream",
     "text": [
      "(275, 9)\n"
     ]
    }
   ],
   "source": [
    "df = pd.read_csv(\"saved_data/palm oil_data.csv\")\n",
    "print(df.shape)"
   ]
  },
  {
   "cell_type": "code",
   "execution_count": 4,
   "metadata": {},
   "outputs": [
    {
     "data": {
      "text/html": [
       "<div>\n",
       "<style scoped>\n",
       "    .dataframe tbody tr th:only-of-type {\n",
       "        vertical-align: middle;\n",
       "    }\n",
       "\n",
       "    .dataframe tbody tr th {\n",
       "        vertical-align: top;\n",
       "    }\n",
       "\n",
       "    .dataframe thead th {\n",
       "        text-align: right;\n",
       "    }\n",
       "</style>\n",
       "<table border=\"1\" class=\"dataframe\">\n",
       "  <thead>\n",
       "    <tr style=\"text-align: right;\">\n",
       "      <th></th>\n",
       "      <th>title</th>\n",
       "      <th>link</th>\n",
       "      <th>price</th>\n",
       "      <th>rating</th>\n",
       "      <th>MRP</th>\n",
       "      <th>Reviews_count</th>\n",
       "      <th>Delivery</th>\n",
       "      <th>delivery_date</th>\n",
       "      <th>image</th>\n",
       "    </tr>\n",
       "  </thead>\n",
       "  <tbody>\n",
       "    <tr>\n",
       "      <th>count</th>\n",
       "      <td>275</td>\n",
       "      <td>275</td>\n",
       "      <td>264</td>\n",
       "      <td>213</td>\n",
       "      <td>261</td>\n",
       "      <td>213</td>\n",
       "      <td>258</td>\n",
       "      <td>234</td>\n",
       "      <td>275</td>\n",
       "    </tr>\n",
       "    <tr>\n",
       "      <th>unique</th>\n",
       "      <td>268</td>\n",
       "      <td>275</td>\n",
       "      <td>202</td>\n",
       "      <td>17</td>\n",
       "      <td>215</td>\n",
       "      <td>156</td>\n",
       "      <td>4</td>\n",
       "      <td>14</td>\n",
       "      <td>257</td>\n",
       "    </tr>\n",
       "    <tr>\n",
       "      <th>top</th>\n",
       "      <td>Wood Cold pressed Mustard Oil Pure and Unrefin...</td>\n",
       "      <td>https://amazon.in//sspa/click?ie=UTF8&amp;spc=MToz...</td>\n",
       "      <td>739</td>\n",
       "      <td>4.4 out of 5 stars</td>\n",
       "      <td>739</td>\n",
       "      <td>2</td>\n",
       "      <td>Get it by</td>\n",
       "      <td>Tomorrow, 25 September</td>\n",
       "      <td>https://m.media-amazon.com/images/I/61NEZfloc9...</td>\n",
       "    </tr>\n",
       "    <tr>\n",
       "      <th>freq</th>\n",
       "      <td>2</td>\n",
       "      <td>1</td>\n",
       "      <td>6</td>\n",
       "      <td>54</td>\n",
       "      <td>6</td>\n",
       "      <td>9</td>\n",
       "      <td>201</td>\n",
       "      <td>60</td>\n",
       "      <td>6</td>\n",
       "    </tr>\n",
       "  </tbody>\n",
       "</table>\n",
       "</div>"
      ],
      "text/plain": [
       "                                                    title  \\\n",
       "count                                                 275   \n",
       "unique                                                268   \n",
       "top     Wood Cold pressed Mustard Oil Pure and Unrefin...   \n",
       "freq                                                    2   \n",
       "\n",
       "                                                     link price  \\\n",
       "count                                                 275   264   \n",
       "unique                                                275   202   \n",
       "top     https://amazon.in//sspa/click?ie=UTF8&spc=MToz...   739   \n",
       "freq                                                    1     6   \n",
       "\n",
       "                    rating  MRP Reviews_count   Delivery  \\\n",
       "count                  213  261           213        258   \n",
       "unique                  17  215           156          4   \n",
       "top     4.4 out of 5 stars  739             2  Get it by   \n",
       "freq                    54    6             9        201   \n",
       "\n",
       "                 delivery_date  \\\n",
       "count                      234   \n",
       "unique                      14   \n",
       "top     Tomorrow, 25 September   \n",
       "freq                        60   \n",
       "\n",
       "                                                    image  \n",
       "count                                                 275  \n",
       "unique                                                257  \n",
       "top     https://m.media-amazon.com/images/I/61NEZfloc9...  \n",
       "freq                                                    6  "
      ]
     },
     "execution_count": 4,
     "metadata": {},
     "output_type": "execute_result"
    }
   ],
   "source": [
    "df.describe()"
   ]
  },
  {
   "cell_type": "code",
   "execution_count": 5,
   "metadata": {},
   "outputs": [
    {
     "name": "stdout",
     "output_type": "stream",
     "text": [
      "<class 'pandas.core.frame.DataFrame'>\n",
      "RangeIndex: 275 entries, 0 to 274\n",
      "Data columns (total 9 columns):\n",
      " #   Column         Non-Null Count  Dtype \n",
      "---  ------         --------------  ----- \n",
      " 0   title          275 non-null    object\n",
      " 1   link           275 non-null    object\n",
      " 2   price          264 non-null    object\n",
      " 3   rating         213 non-null    object\n",
      " 4   MRP            261 non-null    object\n",
      " 5   Reviews_count  213 non-null    object\n",
      " 6   Delivery       258 non-null    object\n",
      " 7   delivery_date  234 non-null    object\n",
      " 8   image          275 non-null    object\n",
      "dtypes: object(9)\n",
      "memory usage: 19.5+ KB\n"
     ]
    }
   ],
   "source": [
    "df.info()"
   ]
  },
  {
   "cell_type": "code",
   "execution_count": 6,
   "metadata": {},
   "outputs": [
    {
     "data": {
      "text/plain": [
       "title             0\n",
       "link              0\n",
       "price            11\n",
       "rating           62\n",
       "MRP              14\n",
       "Reviews_count    62\n",
       "Delivery         17\n",
       "delivery_date    41\n",
       "image             0\n",
       "dtype: int64"
      ]
     },
     "execution_count": 6,
     "metadata": {},
     "output_type": "execute_result"
    }
   ],
   "source": [
    "df.isna().sum()"
   ]
  },
  {
   "cell_type": "code",
   "execution_count": 7,
   "metadata": {},
   "outputs": [
    {
     "data": {
      "text/plain": [
       "(264,)"
      ]
     },
     "execution_count": 7,
     "metadata": {},
     "output_type": "execute_result"
    }
   ],
   "source": [
    "df['price'].dropna().shape"
   ]
  },
  {
   "cell_type": "code",
   "execution_count": 8,
   "metadata": {},
   "outputs": [
    {
     "data": {
      "text/plain": [
       "0    https://m.media-amazon.com/images/I/71mgF2X4u1...\n",
       "1    https://m.media-amazon.com/images/I/61ANdj-Mfa...\n",
       "2    https://m.media-amazon.com/images/I/61JRBicyrA...\n",
       "3    https://m.media-amazon.com/images/I/81ILzuTdkb...\n",
       "4    https://m.media-amazon.com/images/I/71OrIGkEM+...\n",
       "Name: image, dtype: object"
      ]
     },
     "execution_count": 8,
     "metadata": {},
     "output_type": "execute_result"
    }
   ],
   "source": [
    "df[:5]['image']"
   ]
  },
  {
   "cell_type": "code",
   "execution_count": 9,
   "metadata": {},
   "outputs": [
    {
     "data": {
      "text/plain": [
       "Index(['title', 'link', 'price', 'rating', 'MRP', 'Reviews_count', 'Delivery',\n",
       "       'delivery_date', 'image'],\n",
       "      dtype='object')"
      ]
     },
     "execution_count": 9,
     "metadata": {},
     "output_type": "execute_result"
    }
   ],
   "source": [
    "df.columns"
   ]
  },
  {
   "cell_type": "code",
   "execution_count": 10,
   "metadata": {},
   "outputs": [
    {
     "data": {
      "text/html": [
       "<div>\n",
       "<style scoped>\n",
       "    .dataframe tbody tr th:only-of-type {\n",
       "        vertical-align: middle;\n",
       "    }\n",
       "\n",
       "    .dataframe tbody tr th {\n",
       "        vertical-align: top;\n",
       "    }\n",
       "\n",
       "    .dataframe thead th {\n",
       "        text-align: right;\n",
       "    }\n",
       "</style>\n",
       "<table border=\"1\" class=\"dataframe\">\n",
       "  <thead>\n",
       "    <tr style=\"text-align: right;\">\n",
       "      <th></th>\n",
       "      <th>title</th>\n",
       "      <th>price</th>\n",
       "      <th>MRP</th>\n",
       "    </tr>\n",
       "  </thead>\n",
       "  <tbody>\n",
       "    <tr>\n",
       "      <th>0</th>\n",
       "      <td>Vimal Cottonseed Oil: Healthy Kapasiya Tel, Re...</td>\n",
       "      <td>2,809</td>\n",
       "      <td>2,809</td>\n",
       "    </tr>\n",
       "    <tr>\n",
       "      <th>1</th>\n",
       "      <td>VAIGARAI Wood Cold Pressed Sesame Oil 500 Ml H...</td>\n",
       "      <td>325</td>\n",
       "      <td>650</td>\n",
       "    </tr>\n",
       "    <tr>\n",
       "      <th>2</th>\n",
       "      <td>Ruchi Gold Palmolein Oil for Cooking, Frying, ...</td>\n",
       "      <td>86</td>\n",
       "      <td>96.30</td>\n",
       "    </tr>\n",
       "    <tr>\n",
       "      <th>3</th>\n",
       "      <td>Fortune Sunlite Refined Sunflower Oil, 1L</td>\n",
       "      <td>141</td>\n",
       "      <td>141</td>\n",
       "    </tr>\n",
       "    <tr>\n",
       "      <th>4</th>\n",
       "      <td>Sunrich Sunflower Oil Pouch, Edible Oil for Co...</td>\n",
       "      <td>215</td>\n",
       "      <td>239.15</td>\n",
       "    </tr>\n",
       "    <tr>\n",
       "      <th>...</th>\n",
       "      <td>...</td>\n",
       "      <td>...</td>\n",
       "      <td>...</td>\n",
       "    </tr>\n",
       "    <tr>\n",
       "      <th>270</th>\n",
       "      <td>Anadi Coconut Milk Oil - with Bhimseni Kapoor ...</td>\n",
       "      <td>NaN</td>\n",
       "      <td>NaN</td>\n",
       "    </tr>\n",
       "    <tr>\n",
       "      <th>271</th>\n",
       "      <td>Gold Medal 100% Pure &amp; Natural Virgin Coconut ...</td>\n",
       "      <td>270</td>\n",
       "      <td>270</td>\n",
       "    </tr>\n",
       "    <tr>\n",
       "      <th>272</th>\n",
       "      <td>Two Brothers Organic Farms Coconut Oil, Made u...</td>\n",
       "      <td>1,130</td>\n",
       "      <td>1,130</td>\n",
       "    </tr>\n",
       "    <tr>\n",
       "      <th>273</th>\n",
       "      <td>Jivo So-Olive Oil - 1 litre | Blend Of Rice Br...</td>\n",
       "      <td>245</td>\n",
       "      <td>245</td>\n",
       "    </tr>\n",
       "    <tr>\n",
       "      <th>274</th>\n",
       "      <td>Parampara Naturals Peanut Oil Wood Pressed Unr...</td>\n",
       "      <td>3,648</td>\n",
       "      <td>364.80</td>\n",
       "    </tr>\n",
       "  </tbody>\n",
       "</table>\n",
       "<p>275 rows × 3 columns</p>\n",
       "</div>"
      ],
      "text/plain": [
       "                                                 title  price     MRP\n",
       "0    Vimal Cottonseed Oil: Healthy Kapasiya Tel, Re...  2,809   2,809\n",
       "1    VAIGARAI Wood Cold Pressed Sesame Oil 500 Ml H...    325     650\n",
       "2    Ruchi Gold Palmolein Oil for Cooking, Frying, ...     86   96.30\n",
       "3          Fortune Sunlite Refined Sunflower Oil, 1L      141     141\n",
       "4    Sunrich Sunflower Oil Pouch, Edible Oil for Co...    215  239.15\n",
       "..                                                 ...    ...     ...\n",
       "270  Anadi Coconut Milk Oil - with Bhimseni Kapoor ...    NaN     NaN\n",
       "271  Gold Medal 100% Pure & Natural Virgin Coconut ...    270     270\n",
       "272  Two Brothers Organic Farms Coconut Oil, Made u...  1,130   1,130\n",
       "273  Jivo So-Olive Oil - 1 litre | Blend Of Rice Br...    245     245\n",
       "274  Parampara Naturals Peanut Oil Wood Pressed Unr...  3,648  364.80\n",
       "\n",
       "[275 rows x 3 columns]"
      ]
     },
     "execution_count": 10,
     "metadata": {},
     "output_type": "execute_result"
    }
   ],
   "source": [
    "df[['title','price','MRP']]"
   ]
  },
  {
   "cell_type": "code",
   "execution_count": 11,
   "metadata": {},
   "outputs": [
    {
     "data": {
      "text/plain": [
       "0      Vimal Cottonseed Oil: Healthy Kapasiya Tel, Re...\n",
       "1      VAIGARAI Wood Cold Pressed Sesame Oil 500 Ml H...\n",
       "2      Ruchi Gold Palmolein Oil for Cooking, Frying, ...\n",
       "3            Fortune Sunlite Refined Sunflower Oil, 1L  \n",
       "4      Sunrich Sunflower Oil Pouch, Edible Oil for Co...\n",
       "                             ...                        \n",
       "270    Anadi Coconut Milk Oil - with Bhimseni Kapoor ...\n",
       "271    Gold Medal 100% Pure & Natural Virgin Coconut ...\n",
       "272    Two Brothers Organic Farms Coconut Oil, Made u...\n",
       "273    Jivo So-Olive Oil - 1 litre | Blend Of Rice Br...\n",
       "274    Parampara Naturals Peanut Oil Wood Pressed Unr...\n",
       "Name: title, Length: 275, dtype: object"
      ]
     },
     "execution_count": 11,
     "metadata": {},
     "output_type": "execute_result"
    }
   ],
   "source": [
    "df['title']"
   ]
  },
  {
   "cell_type": "code",
   "execution_count": 13,
   "metadata": {},
   "outputs": [
    {
     "data": {
      "text/plain": [
       "title             0\n",
       "link              0\n",
       "price            11\n",
       "rating           62\n",
       "MRP              14\n",
       "Reviews_count    62\n",
       "Delivery         17\n",
       "delivery_date    41\n",
       "image             0\n",
       "dtype: int64"
      ]
     },
     "execution_count": 13,
     "metadata": {},
     "output_type": "execute_result"
    }
   ],
   "source": [
    "df.isna().sum()"
   ]
  },
  {
   "cell_type": "code",
   "execution_count": 14,
   "metadata": {},
   "outputs": [],
   "source": [
    "new_df = df.dropna()"
   ]
  },
  {
   "cell_type": "code",
   "execution_count": 16,
   "metadata": {},
   "outputs": [
    {
     "data": {
      "text/plain": [
       "(187, 9)"
      ]
     },
     "execution_count": 16,
     "metadata": {},
     "output_type": "execute_result"
    }
   ],
   "source": [
    "new_df.shape"
   ]
  },
  {
   "cell_type": "code",
   "execution_count": 17,
   "metadata": {},
   "outputs": [
    {
     "name": "stdout",
     "output_type": "stream",
     "text": [
      "<class 'pandas.core.frame.DataFrame'>\n",
      "Index: 187 entries, 0 to 274\n",
      "Data columns (total 9 columns):\n",
      " #   Column         Non-Null Count  Dtype \n",
      "---  ------         --------------  ----- \n",
      " 0   title          187 non-null    object\n",
      " 1   link           187 non-null    object\n",
      " 2   price          187 non-null    object\n",
      " 3   rating         187 non-null    object\n",
      " 4   MRP            187 non-null    object\n",
      " 5   Reviews_count  187 non-null    object\n",
      " 6   Delivery       187 non-null    object\n",
      " 7   delivery_date  187 non-null    object\n",
      " 8   image          187 non-null    object\n",
      "dtypes: object(9)\n",
      "memory usage: 14.6+ KB\n"
     ]
    }
   ],
   "source": [
    "new_df.info()"
   ]
  },
  {
   "cell_type": "code",
   "execution_count": 18,
   "metadata": {},
   "outputs": [
    {
     "data": {
      "text/html": [
       "<div>\n",
       "<style scoped>\n",
       "    .dataframe tbody tr th:only-of-type {\n",
       "        vertical-align: middle;\n",
       "    }\n",
       "\n",
       "    .dataframe tbody tr th {\n",
       "        vertical-align: top;\n",
       "    }\n",
       "\n",
       "    .dataframe thead th {\n",
       "        text-align: right;\n",
       "    }\n",
       "</style>\n",
       "<table border=\"1\" class=\"dataframe\">\n",
       "  <thead>\n",
       "    <tr style=\"text-align: right;\">\n",
       "      <th></th>\n",
       "      <th>title</th>\n",
       "      <th>link</th>\n",
       "      <th>price</th>\n",
       "      <th>rating</th>\n",
       "      <th>MRP</th>\n",
       "      <th>Reviews_count</th>\n",
       "      <th>Delivery</th>\n",
       "      <th>delivery_date</th>\n",
       "      <th>image</th>\n",
       "    </tr>\n",
       "  </thead>\n",
       "  <tbody>\n",
       "    <tr>\n",
       "      <th>0</th>\n",
       "      <td>Vimal Cottonseed Oil: Healthy Kapasiya Tel, Re...</td>\n",
       "      <td>https://amazon.in//sspa/click?ie=UTF8&amp;spc=MToz...</td>\n",
       "      <td>2,809</td>\n",
       "      <td>4.7 out of 5 stars</td>\n",
       "      <td>2,809</td>\n",
       "      <td>35</td>\n",
       "      <td>Get it by</td>\n",
       "      <td>Monday 30 September</td>\n",
       "      <td>https://m.media-amazon.com/images/I/71mgF2X4u1...</td>\n",
       "    </tr>\n",
       "    <tr>\n",
       "      <th>1</th>\n",
       "      <td>VAIGARAI Wood Cold Pressed Sesame Oil 500 Ml H...</td>\n",
       "      <td>https://amazon.in//sspa/click?ie=UTF8&amp;spc=MToz...</td>\n",
       "      <td>325</td>\n",
       "      <td>5.0 out of 5 stars</td>\n",
       "      <td>650</td>\n",
       "      <td>7</td>\n",
       "      <td>Get it by</td>\n",
       "      <td>Monday 30 September</td>\n",
       "      <td>https://m.media-amazon.com/images/I/61ANdj-Mfa...</td>\n",
       "    </tr>\n",
       "    <tr>\n",
       "      <th>2</th>\n",
       "      <td>Ruchi Gold Palmolein Oil for Cooking, Frying, ...</td>\n",
       "      <td>https://amazon.in//Ruchi-Gold-Oil-Palmolein-1L...</td>\n",
       "      <td>86</td>\n",
       "      <td>4.0 out of 5 stars</td>\n",
       "      <td>96.30</td>\n",
       "      <td>4,169</td>\n",
       "      <td>FREE delivery starting from</td>\n",
       "      <td>Tomorrow 6 am - 10 am</td>\n",
       "      <td>https://m.media-amazon.com/images/I/61JRBicyrA...</td>\n",
       "    </tr>\n",
       "    <tr>\n",
       "      <th>3</th>\n",
       "      <td>Fortune Sunlite Refined Sunflower Oil, 1L</td>\n",
       "      <td>https://amazon.in//Fortune-Sunlite-Refined-Sun...</td>\n",
       "      <td>141</td>\n",
       "      <td>4.4 out of 5 stars</td>\n",
       "      <td>141</td>\n",
       "      <td>35,892</td>\n",
       "      <td>Get it</td>\n",
       "      <td>Monday 30 September</td>\n",
       "      <td>https://m.media-amazon.com/images/I/81ILzuTdkb...</td>\n",
       "    </tr>\n",
       "    <tr>\n",
       "      <th>4</th>\n",
       "      <td>Sunrich Sunflower Oil Pouch, Edible Oil for Co...</td>\n",
       "      <td>https://amazon.in//Sunrich-Sunflower-Oil-Pouch...</td>\n",
       "      <td>215</td>\n",
       "      <td>4.3 out of 5 stars</td>\n",
       "      <td>239.15</td>\n",
       "      <td>4,081</td>\n",
       "      <td>Get it by</td>\n",
       "      <td>Tuesday 1 October</td>\n",
       "      <td>https://m.media-amazon.com/images/I/71OrIGkEM+...</td>\n",
       "    </tr>\n",
       "    <tr>\n",
       "      <th>...</th>\n",
       "      <td>...</td>\n",
       "      <td>...</td>\n",
       "      <td>...</td>\n",
       "      <td>...</td>\n",
       "      <td>...</td>\n",
       "      <td>...</td>\n",
       "      <td>...</td>\n",
       "      <td>...</td>\n",
       "      <td>...</td>\n",
       "    </tr>\n",
       "    <tr>\n",
       "      <th>266</th>\n",
       "      <td>Anjali Cold Pressed Gingelly/Sesame Oil (Ginge...</td>\n",
       "      <td>https://amazon.in//sspa/click?ie=UTF8&amp;spc=MToz...</td>\n",
       "      <td>2,511</td>\n",
       "      <td>4.3 out of 5 stars</td>\n",
       "      <td>251.10</td>\n",
       "      <td>2,002</td>\n",
       "      <td>Get it by</td>\n",
       "      <td>Tuesday 1 October</td>\n",
       "      <td>https://m.media-amazon.com/images/I/71ZcvXUHe-...</td>\n",
       "    </tr>\n",
       "    <tr>\n",
       "      <th>267</th>\n",
       "      <td>Fresmill Oils Cold Pressed Coconut Oil 500ML |...</td>\n",
       "      <td>https://amazon.in//sspa/click?ie=UTF8&amp;spc=MToz...</td>\n",
       "      <td>520</td>\n",
       "      <td>4.3 out of 5 stars</td>\n",
       "      <td>520</td>\n",
       "      <td>59</td>\n",
       "      <td>Get it by</td>\n",
       "      <td>Sunday 29 September</td>\n",
       "      <td>https://m.media-amazon.com/images/I/71xkIPvr12...</td>\n",
       "    </tr>\n",
       "    <tr>\n",
       "      <th>268</th>\n",
       "      <td>Tilsar 400ml Ghani White Sesame Oil (Kolhu/Che...</td>\n",
       "      <td>https://amazon.in//sspa/click?ie=UTF8&amp;spc=MToz...</td>\n",
       "      <td>279</td>\n",
       "      <td>4.2 out of 5 stars</td>\n",
       "      <td>697.50</td>\n",
       "      <td>88</td>\n",
       "      <td>Get it by</td>\n",
       "      <td>Sunday 29 September</td>\n",
       "      <td>https://m.media-amazon.com/images/I/71+3ljjQXa...</td>\n",
       "    </tr>\n",
       "    <tr>\n",
       "      <th>272</th>\n",
       "      <td>Two Brothers Organic Farms Coconut Oil, Made u...</td>\n",
       "      <td>https://amazon.in//sspa/click?ie=UTF8&amp;spc=MToz...</td>\n",
       "      <td>1,130</td>\n",
       "      <td>4.3 out of 5 stars</td>\n",
       "      <td>1,130</td>\n",
       "      <td>101</td>\n",
       "      <td>Get it by</td>\n",
       "      <td>Saturday 28 September</td>\n",
       "      <td>https://m.media-amazon.com/images/I/61dbD9mi5D...</td>\n",
       "    </tr>\n",
       "    <tr>\n",
       "      <th>274</th>\n",
       "      <td>Parampara Naturals Peanut Oil Wood Pressed Unr...</td>\n",
       "      <td>https://amazon.in//sspa/click?ie=UTF8&amp;spc=MToz...</td>\n",
       "      <td>3,648</td>\n",
       "      <td>4.8 out of 5 stars</td>\n",
       "      <td>364.80</td>\n",
       "      <td>18</td>\n",
       "      <td>Get it by</td>\n",
       "      <td>Saturday 28 September</td>\n",
       "      <td>https://m.media-amazon.com/images/I/71ZMVBuQaL...</td>\n",
       "    </tr>\n",
       "  </tbody>\n",
       "</table>\n",
       "<p>187 rows × 9 columns</p>\n",
       "</div>"
      ],
      "text/plain": [
       "                                                 title  \\\n",
       "0    Vimal Cottonseed Oil: Healthy Kapasiya Tel, Re...   \n",
       "1    VAIGARAI Wood Cold Pressed Sesame Oil 500 Ml H...   \n",
       "2    Ruchi Gold Palmolein Oil for Cooking, Frying, ...   \n",
       "3          Fortune Sunlite Refined Sunflower Oil, 1L     \n",
       "4    Sunrich Sunflower Oil Pouch, Edible Oil for Co...   \n",
       "..                                                 ...   \n",
       "266  Anjali Cold Pressed Gingelly/Sesame Oil (Ginge...   \n",
       "267  Fresmill Oils Cold Pressed Coconut Oil 500ML |...   \n",
       "268  Tilsar 400ml Ghani White Sesame Oil (Kolhu/Che...   \n",
       "272  Two Brothers Organic Farms Coconut Oil, Made u...   \n",
       "274  Parampara Naturals Peanut Oil Wood Pressed Unr...   \n",
       "\n",
       "                                                  link  price  \\\n",
       "0    https://amazon.in//sspa/click?ie=UTF8&spc=MToz...  2,809   \n",
       "1    https://amazon.in//sspa/click?ie=UTF8&spc=MToz...    325   \n",
       "2    https://amazon.in//Ruchi-Gold-Oil-Palmolein-1L...     86   \n",
       "3    https://amazon.in//Fortune-Sunlite-Refined-Sun...    141   \n",
       "4    https://amazon.in//Sunrich-Sunflower-Oil-Pouch...    215   \n",
       "..                                                 ...    ...   \n",
       "266  https://amazon.in//sspa/click?ie=UTF8&spc=MToz...  2,511   \n",
       "267  https://amazon.in//sspa/click?ie=UTF8&spc=MToz...    520   \n",
       "268  https://amazon.in//sspa/click?ie=UTF8&spc=MToz...    279   \n",
       "272  https://amazon.in//sspa/click?ie=UTF8&spc=MToz...  1,130   \n",
       "274  https://amazon.in//sspa/click?ie=UTF8&spc=MToz...  3,648   \n",
       "\n",
       "                 rating     MRP Reviews_count                     Delivery  \\\n",
       "0    4.7 out of 5 stars   2,809            35                    Get it by   \n",
       "1    5.0 out of 5 stars     650             7                    Get it by   \n",
       "2    4.0 out of 5 stars   96.30         4,169  FREE delivery starting from   \n",
       "3    4.4 out of 5 stars     141        35,892                       Get it   \n",
       "4    4.3 out of 5 stars  239.15         4,081                    Get it by   \n",
       "..                  ...     ...           ...                          ...   \n",
       "266  4.3 out of 5 stars  251.10         2,002                    Get it by   \n",
       "267  4.3 out of 5 stars     520            59                    Get it by   \n",
       "268  4.2 out of 5 stars  697.50            88                    Get it by   \n",
       "272  4.3 out of 5 stars   1,130           101                    Get it by   \n",
       "274  4.8 out of 5 stars  364.80            18                    Get it by   \n",
       "\n",
       "             delivery_date                                              image  \n",
       "0      Monday 30 September  https://m.media-amazon.com/images/I/71mgF2X4u1...  \n",
       "1      Monday 30 September  https://m.media-amazon.com/images/I/61ANdj-Mfa...  \n",
       "2    Tomorrow 6 am - 10 am  https://m.media-amazon.com/images/I/61JRBicyrA...  \n",
       "3      Monday 30 September  https://m.media-amazon.com/images/I/81ILzuTdkb...  \n",
       "4        Tuesday 1 October  https://m.media-amazon.com/images/I/71OrIGkEM+...  \n",
       "..                     ...                                                ...  \n",
       "266      Tuesday 1 October  https://m.media-amazon.com/images/I/71ZcvXUHe-...  \n",
       "267    Sunday 29 September  https://m.media-amazon.com/images/I/71xkIPvr12...  \n",
       "268    Sunday 29 September  https://m.media-amazon.com/images/I/71+3ljjQXa...  \n",
       "272  Saturday 28 September  https://m.media-amazon.com/images/I/61dbD9mi5D...  \n",
       "274  Saturday 28 September  https://m.media-amazon.com/images/I/71ZMVBuQaL...  \n",
       "\n",
       "[187 rows x 9 columns]"
      ]
     },
     "execution_count": 18,
     "metadata": {},
     "output_type": "execute_result"
    }
   ],
   "source": [
    "new_df"
   ]
  },
  {
   "cell_type": "code",
   "execution_count": null,
   "metadata": {},
   "outputs": [],
   "source": []
  },
  {
   "cell_type": "code",
   "execution_count": null,
   "metadata": {},
   "outputs": [],
   "source": []
  }
 ],
 "metadata": {
  "kernelspec": {
   "display_name": "selen",
   "language": "python",
   "name": "python3"
  },
  "language_info": {
   "codemirror_mode": {
    "name": "ipython",
    "version": 3
   },
   "file_extension": ".py",
   "mimetype": "text/x-python",
   "name": "python",
   "nbconvert_exporter": "python",
   "pygments_lexer": "ipython3",
   "version": "3.12.4"
  }
 },
 "nbformat": 4,
 "nbformat_minor": 2
}
